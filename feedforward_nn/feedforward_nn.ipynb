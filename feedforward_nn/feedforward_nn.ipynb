{
 "cells": [
  {
   "cell_type": "code",
   "execution_count": 1,
   "metadata": {
    "collapsed": true
   },
   "outputs": [],
   "source": [
    "import tensorflow as tf\n",
    "import numpy as np\n",
    "from tensorflow.examples.tutorials.mnist import input_data"
   ]
  },
  {
   "cell_type": "code",
   "execution_count": 2,
   "metadata": {},
   "outputs": [
    {
     "data": {
      "text/plain": [
       "'1.1.0'"
      ]
     },
     "execution_count": 2,
     "metadata": {},
     "output_type": "execute_result"
    }
   ],
   "source": [
    "tf.__version__"
   ]
  },
  {
   "cell_type": "code",
   "execution_count": 9,
   "metadata": {
    "collapsed": true
   },
   "outputs": [],
   "source": [
    "class FFCell:\n",
    "    def __init__(self, input_size, output_size, hidden_desc, regression = False):\n",
    "        self.input_size = input_size\n",
    "        self.output_size = output_size\n",
    "        self.hidden_desc = hidden_desc\n",
    "        self.regression = regression\n",
    "        self.layers = []\n",
    "        self.ops = []\n",
    "        self.X_train = tf.placeholder(tf.float32, [None, input_size], name=\"X_train\")\n",
    "        self.y_train = tf.placeholder(tf.float32, name=\"y_train\")\n",
    "        self._init_weights()\n",
    "        self._build_graph()\n",
    "    \n",
    "    def _init_weights(self):\n",
    "        self.layers.append({ 'weights': tf.Variable(tf.random_normal([self.input_size, self.hidden_desc[0]['hidden_nodes']])),\n",
    "                             'biases': tf.Variable(tf.random_normal([self.hidden_desc[0]['hidden_nodes']]))})\n",
    "        \n",
    "        if len(self.hidden_desc[1:]) >= 1:\n",
    "            cnt = 0\n",
    "            for desc in self.hidden_desc[1:]:\n",
    "                i_size = self.hidden_desc[cnt]['hidden_nodes']\n",
    "                self.layers.append({ 'weights': tf.Variable(tf.random_normal([i_size, desc['hidden_nodes']])),\n",
    "                                     'biases': tf.Variable(tf.random_normal([desc['hidden_nodes']]))})\n",
    "                cnt += 1\n",
    "        \n",
    "        self.layers.append({ 'weights': tf.Variable(tf.random_normal([self.hidden_desc[len(self.hidden_desc) - 1]['hidden_nodes'], self.output_size])),\n",
    "                             'biases': tf.Variable(tf.random_normal([self.output_size]))})\n",
    "    \n",
    "    def _build_graph(self):\n",
    "        activ = self.hidden_desc[0]['activation']\n",
    "        self.ops.append(\n",
    "            activ(tf.matmul(self.X_train, self.layers[0]['weights']) + self.layers[0]['biases'])\n",
    "        )\n",
    "        \n",
    "        if len(self.layers[1:-1]) >= 1:\n",
    "            cnt = 1\n",
    "            for layer in self.layers[1:-1]:\n",
    "                activ = self.hidden_desc[cnt]['activation']\n",
    "                self.ops.append(\n",
    "                    activ(tf.matmul(self.layers[cnt-1]['weights'], layer['weights']) + layer['biases'])\n",
    "                )\n",
    "                cnt += 1\n",
    "        \n",
    "        self.ops.append(\n",
    "                tf.matmul(self.layers[len(self.layers) - 2]['weights'], self.layers[len(self.layers) - 1]['weights']) +\n",
    "                self.layers[len(self.layers) - 1]['biases']\n",
    "        )\n",
    "    \n",
    "    def _get_next_batch(x, y, epoch, batch_size):\n",
    "        start = epoch * batch_size\n",
    "        end = start + batch_size\n",
    "        \n",
    "        if end >= len(x):\n",
    "            end = len(x)\n",
    "        \n",
    "        return (x[start:end], y[start:end])\n",
    "    \n",
    "    def predict(self):\n",
    "        return 0\n",
    "    \n",
    "    def train(self, mnist, batch_size, epochs):\n",
    "        # TODO do train stuff\n",
    "        pred = self.ops[len(self.ops) - 1]\n",
    "        cost = tf.reduce_mean(tf.nn.softmax_cross_entropy_with_logits(logits=pred, labels=self.y_train))\n",
    "        \n",
    "        optimizer = tf.train.AdamOptimizer().minimize(cost)\n",
    "        \n",
    "        with tf.Session() as sess:\n",
    "            sess.run(tf.global_variables_initializer())\n",
    "            for epoch in range(epochs):\n",
    "                epoch_cost = 0\n",
    "                for _ in range(int(mnist.train.num_examples/batch_size)):\n",
    "                    x, y = mnist.train.next_batch(batch_size)\n",
    "                    _, c = sess.run([optimizer, cost], feed_dict = {self.X_train: x, self.y_train: y})\n",
    "                    epoch_cost += c\n",
    "                print('Epoch: ', (epoch + 1), '/', epochs, ' Epoch cost: ', epoch_cost)\n",
    "#             correct = tf.equal(tf.argmax(pred, 1), tf.argmax(self.y_train, 1))\n",
    "#             accuracy = tf.reduce_mean(tf.cast(correct, 'float'))\n",
    "#             print('Accuracy', accuracy.eval({x:mnist.test.images, y:mnist.test.labels}))\n",
    "    "
   ]
  },
  {
   "cell_type": "code",
   "execution_count": 11,
   "metadata": {},
   "outputs": [
    {
     "name": "stdout",
     "output_type": "stream",
     "text": [
      "Extracting ../Data/MNIST/train-images-idx3-ubyte.gz\n",
      "Extracting ../Data/MNIST/train-labels-idx1-ubyte.gz\n",
      "Extracting ../Data/MNIST/t10k-images-idx3-ubyte.gz\n",
      "Extracting ../Data/MNIST/t10k-labels-idx1-ubyte.gz\n",
      "[{'weights': <tf.Variable 'Variable_32:0' shape=(784, 500) dtype=float32_ref>, 'biases': <tf.Variable 'Variable_33:0' shape=(500,) dtype=float32_ref>}, {'weights': <tf.Variable 'Variable_34:0' shape=(500, 500) dtype=float32_ref>, 'biases': <tf.Variable 'Variable_35:0' shape=(500,) dtype=float32_ref>}, {'weights': <tf.Variable 'Variable_36:0' shape=(500, 500) dtype=float32_ref>, 'biases': <tf.Variable 'Variable_37:0' shape=(500,) dtype=float32_ref>}, {'weights': <tf.Variable 'Variable_38:0' shape=(500, 10) dtype=float32_ref>, 'biases': <tf.Variable 'Variable_39:0' shape=(10,) dtype=float32_ref>}]\n",
      "[<tf.Tensor 'Relu_12:0' shape=(?, 500) dtype=float32>, <tf.Tensor 'Relu_13:0' shape=(784, 500) dtype=float32>, <tf.Tensor 'Relu_14:0' shape=(500, 500) dtype=float32>, <tf.Tensor 'add_15:0' shape=(500, 10) dtype=float32>]\n"
     ]
    }
   ],
   "source": [
    "mnist = input_data.read_data_sets('../Data/MNIST/', one_hot=True)\n",
    "\n",
    "hidden_desc = [\n",
    "    {'hidden_nodes': 500, 'activation': tf.nn.relu},\n",
    "    {'hidden_nodes': 500, 'activation': tf.nn.relu},\n",
    "    {'hidden_nodes': 500, 'activation': tf.nn.relu}\n",
    "]\n",
    "\n",
    "ffcell = FFCell(784, 10, hidden_desc, True)\n",
    "\n",
    "print(ffcell.layers)\n",
    "print(ffcell.ops)\n",
    "\n",
    "# ffcell.train(mnist, 100, 10)\n"
   ]
  },
  {
   "cell_type": "code",
   "execution_count": null,
   "metadata": {
    "collapsed": true
   },
   "outputs": [],
   "source": []
  },
  {
   "cell_type": "code",
   "execution_count": null,
   "metadata": {
    "collapsed": true
   },
   "outputs": [],
   "source": []
  }
 ],
 "metadata": {
  "kernelspec": {
   "display_name": "Python 2",
   "language": "python",
   "name": "python2"
  },
  "language_info": {
   "codemirror_mode": {
    "name": "ipython",
    "version": 2
   },
   "file_extension": ".py",
   "mimetype": "text/x-python",
   "name": "python",
   "nbconvert_exporter": "python",
   "pygments_lexer": "ipython2",
   "version": "2.7.12"
  }
 },
 "nbformat": 4,
 "nbformat_minor": 2
}

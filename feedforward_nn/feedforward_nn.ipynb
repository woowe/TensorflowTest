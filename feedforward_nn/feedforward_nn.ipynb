{
 "cells": [
  {
   "cell_type": "code",
   "execution_count": 34,
   "metadata": {
    "collapsed": true
   },
   "outputs": [],
   "source": [
    "import tensorflow as tf\n",
    "import numpy as np\n",
    "from tensorflow.examples.tutorials.mnist import input_data"
   ]
  },
  {
   "cell_type": "code",
   "execution_count": 35,
   "metadata": {},
   "outputs": [
    {
     "data": {
      "text/plain": [
       "'1.1.0'"
      ]
     },
     "execution_count": 35,
     "metadata": {},
     "output_type": "execute_result"
    }
   ],
   "source": [
    "tf.__version__"
   ]
  },
  {
   "cell_type": "code",
   "execution_count": 47,
   "metadata": {},
   "outputs": [],
   "source": [
    "class FFNet:\n",
    "    def __init__(self, input_size, output_size, hidden_desc, regression = False):\n",
    "        self.input_size = input_size\n",
    "        self.output_size = output_size\n",
    "        self.hidden_desc = hidden_desc\n",
    "        self.regression = regression\n",
    "        self.weights = []\n",
    "        self.activations = []\n",
    "        self.x = tf.placeholder(tf.float32, [None, input_size], name=\"ffnet_x\")\n",
    "        self.y = tf.placeholder(tf.float32, name=\"ffnet_y\")\n",
    "        self._init_weights()\n",
    "        self._build_graph()\n",
    "    \n",
    "    def _init_weights(self):\n",
    "        self.weights.append({ 'weights': tf.Variable(tf.random_normal([self.input_size, self.hidden_desc[0]['hidden_nodes']])),\n",
    "                              'biases': tf.Variable(tf.random_normal([self.hidden_desc[0]['hidden_nodes']]))})\n",
    "        \n",
    "        if len(self.hidden_desc[1:]) >= 1:\n",
    "            cnt = 0\n",
    "            for desc in self.hidden_desc[1:]:\n",
    "                i_size = self.hidden_desc[cnt]['hidden_nodes']\n",
    "                self.weights.append({ 'weights': tf.Variable(tf.random_normal([i_size, desc['hidden_nodes']])),\n",
    "                                      'biases': tf.Variable(tf.random_normal([desc['hidden_nodes']]))})\n",
    "                cnt += 1\n",
    "        \n",
    "        self.weights.append({ 'weights': tf.Variable(tf.random_normal([self.hidden_desc[len(self.hidden_desc) - 1]['hidden_nodes'], self.output_size])),\n",
    "                              'biases': tf.Variable(tf.random_normal([self.output_size]))})\n",
    "    \n",
    "    def _build_graph(self):\n",
    "        activ_func = self.hidden_desc[0]['activation']\n",
    "        self.activations.append(\n",
    "            activ_func(tf.matmul(self.x, self.weights[0]['weights']) + self.weights[0]['biases'])\n",
    "        )\n",
    "        \n",
    "        if len(self.weights[1:-1]) >= 1:\n",
    "            cnt = 1\n",
    "            for weight in self.weights[1:-1]:\n",
    "                activ_func = self.hidden_desc[cnt]['activation']\n",
    "                prev_activ = self.activations[len(self.activations) - 1]\n",
    "                self.activations.append(\n",
    "                    activ_func(tf.matmul(prev_activ, weight['weights']) + weight['biases'])\n",
    "                )\n",
    "                cnt += 1\n",
    "        \n",
    "        weights_len = len(self.weights)\n",
    "        prev_activ = self.activations[len(self.activations) - 1]\n",
    "        self.logits = tf.matmul(prev_activ, self.weights[weights_len - 1]['weights']) + self.weights[weights_len - 1]['biases']\n",
    "    \n",
    "    def _get_batch(self, training_data, epoch, batch_size):\n",
    "        start = epoch * batch_size\n",
    "        end = start + batch_size\n",
    "        \n",
    "        return training_data['x'][start:end], training_data['y'][start:end]\n",
    "    \n",
    "    def predict(self, x):\n",
    "        prediction = tf.nn.softmax(self.logits)\n",
    "        pred_argmax = tf.argmax(prediction, 1)\n",
    "        \n",
    "        with tf.Session() as sess:\n",
    "            sess.run(tf.global_variables_initializer())\n",
    "            pred, argmax = sess.run([prediction, pred_argmax], feed_dict = {self.x: x})\n",
    "            return pred, argmax\n",
    "    \n",
    "    def train(self, training_data, batch_size, epochs):\n",
    "        cost = tf.reduce_mean(tf.nn.softmax_cross_entropy_with_logits(logits=self.logits, labels=self.y))\n",
    "        \n",
    "        optimizer = tf.train.AdamOptimizer().minimize(cost)\n",
    "        \n",
    "        with tf.Session() as sess:\n",
    "            sess.run(tf.global_variables_initializer())\n",
    "            for epoch in range(epochs):\n",
    "                epoch_cost = 0\n",
    "                for _ in range(int(training_data.train.num_examples/batch_size)):\n",
    "                    x, y = training_data.train.next_batch(batch_size)\n",
    "                    _, c = sess.run([optimizer, cost], feed_dict = {self.x: x, self.y: y})\n",
    "                    epoch_cost += c\n",
    "                print('Epoch: ', (epoch + 1), '/', epochs, ' Epoch cost: ', epoch_cost)\n",
    "            correct = tf.equal(tf.argmax(self.logits, 1), tf.argmax(self.y, 1))\n",
    "            accuracy = tf.reduce_mean(tf.cast(correct, 'float'))\n",
    "            print('Accuracy', accuracy.eval({self.x:training_data.test.images,\n",
    "                                             self.y:training_data.test.labels}))\n",
    "    "
   ]
  },
  {
   "cell_type": "code",
   "execution_count": 51,
   "metadata": {},
   "outputs": [
    {
     "name": "stdout",
     "output_type": "stream",
     "text": [
      "Extracting ../Data/MNIST/train-images-idx3-ubyte.gz\n",
      "Extracting ../Data/MNIST/train-labels-idx1-ubyte.gz\n",
      "Extracting ../Data/MNIST/t10k-images-idx3-ubyte.gz\n",
      "Extracting ../Data/MNIST/t10k-labels-idx1-ubyte.gz\n",
      "('Epoch: ', 1, '/', 20, ' Epoch cost: ', 2283187.6347045898)\n",
      "('Epoch: ', 2, '/', 20, ' Epoch cost: ', 462247.0210943222)\n",
      "('Epoch: ', 3, '/', 20, ' Epoch cost: ', 258362.0985019207)\n",
      "('Epoch: ', 4, '/', 20, ' Epoch cost: ', 157001.03799819946)\n",
      "('Epoch: ', 5, '/', 20, ' Epoch cost: ', 93455.151415616274)\n",
      "('Epoch: ', 6, '/', 20, ' Epoch cost: ', 59687.970650017262)\n",
      "('Epoch: ', 7, '/', 20, ' Epoch cost: ', 40155.839522986404)\n",
      "('Epoch: ', 8, '/', 20, ' Epoch cost: ', 28615.906854366018)\n",
      "('Epoch: ', 9, '/', 20, ' Epoch cost: ', 23688.097914686205)\n",
      "('Epoch: ', 10, '/', 20, ' Epoch cost: ', 18478.97198972106)\n",
      "('Epoch: ', 11, '/', 20, ' Epoch cost: ', 19143.416840313967)\n",
      "('Epoch: ', 12, '/', 20, ' Epoch cost: ', 17898.973224242494)\n",
      "('Epoch: ', 13, '/', 20, ' Epoch cost: ', 15994.212994998692)\n",
      "('Epoch: ', 14, '/', 20, ' Epoch cost: ', 13961.977449234575)\n",
      "('Epoch: ', 15, '/', 20, ' Epoch cost: ', 14228.58695137607)\n",
      "('Epoch: ', 16, '/', 20, ' Epoch cost: ', 12049.385569743812)\n",
      "('Epoch: ', 17, '/', 20, ' Epoch cost: ', 11374.847422181629)\n",
      "('Epoch: ', 18, '/', 20, ' Epoch cost: ', 13221.36391505599)\n",
      "('Epoch: ', 19, '/', 20, ' Epoch cost: ', 10106.44718536119)\n",
      "('Epoch: ', 20, '/', 20, ' Epoch cost: ', 11987.503810327034)\n",
      "('Accuracy', 0.95650017)\n",
      "[[ 0.  0.  0.  0.  0.  0.  0.  0.  1.  0.]]\n",
      "(8, ' | ', 7)\n",
      "False\n"
     ]
    }
   ],
   "source": [
    "mnist = input_data.read_data_sets('../Data/MNIST/', one_hot=True)\n",
    "\n",
    "hidden_desc = [\n",
    "    {'hidden_nodes': 500, 'activation': tf.nn.relu},\n",
    "    {'hidden_nodes': 500, 'activation': tf.nn.relu},\n",
    "    {'hidden_nodes': 500, 'activation': tf.nn.relu}\n",
    "]\n",
    "\n",
    "ffnet = FFNet(784, 10, hidden_desc, False)\n",
    "\n",
    "ffnet.train(mnist, 100, 20)\n",
    "\n",
    "pred, pred_argmax = ffnet.predict(np.array([mnist.test.images[0]]))\n",
    "actu_argmax = np.argmax(mnist.test.labels[0])\n",
    "print(pred)\n",
    "print(pred_argmax[0], ' | ', actu_argmax)\n",
    "print(np.argmax(mnist.test.labels[0]) == argmax[0])\n"
   ]
  },
  {
   "cell_type": "code",
   "execution_count": null,
   "metadata": {
    "collapsed": true
   },
   "outputs": [],
   "source": []
  },
  {
   "cell_type": "code",
   "execution_count": null,
   "metadata": {
    "collapsed": true
   },
   "outputs": [],
   "source": []
  }
 ],
 "metadata": {
  "kernelspec": {
   "display_name": "Python 2",
   "language": "python",
   "name": "python2"
  },
  "language_info": {
   "codemirror_mode": {
    "name": "ipython",
    "version": 2
   },
   "file_extension": ".py",
   "mimetype": "text/x-python",
   "name": "python",
   "nbconvert_exporter": "python",
   "pygments_lexer": "ipython2",
   "version": "2.7.12"
  }
 },
 "nbformat": 4,
 "nbformat_minor": 2
}

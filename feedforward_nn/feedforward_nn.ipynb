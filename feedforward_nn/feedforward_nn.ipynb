{
 "cells": [
  {
   "cell_type": "code",
   "execution_count": 4,
   "metadata": {},
   "outputs": [],
   "source": [
    "import tensorflow as tf\n",
    "import numpy as np"
   ]
  },
  {
   "cell_type": "code",
   "execution_count": 7,
   "metadata": {},
   "outputs": [
    {
     "data": {
      "text/plain": [
       "'1.1.0'"
      ]
     },
     "execution_count": 7,
     "metadata": {},
     "output_type": "execute_result"
    }
   ],
   "source": [
    "tf.__version__"
   ]
  },
  {
   "cell_type": "code",
   "execution_count": 62,
   "metadata": {},
   "outputs": [],
   "source": [
    "class FFCell:\n",
    "    def __init__(self, input_size, output_size, hidden_desc, regression = False):\n",
    "        self.input_size = input_size\n",
    "        self.output_size = output_size\n",
    "        self.hidden_desc = hidden_desc\n",
    "        self.regression = regression\n",
    "        self.layers = []\n",
    "#         self._build_net()\n",
    "    \n",
    "    def _build_net(self):\n",
    "        self.layers.append({ 'weights': tf.Variable(tf.random_normal([self.input_size, self.hidden_desc[0]['hidden_nodes']])),\n",
    "                                 'biases': tf.Variable(tf.random_noraml(self.hidden_desc[0]['hidden_nodes']))})\n",
    "        cnt = 0\n",
    "        for desc in self.hidden_desc:\n",
    "            self.layers.append({ 'weights': tf.Variable(tf.random_normal([i_size, desc['hidden_nodes']])),\n",
    "                                 'biases': tf.Variable(tf.random_noraml(desc['hidden_nodes']))})\n",
    "            cnt += 1\n",
    "        self.layers.append({ 'weights': tf.Variable(tf.random_normal([self.hidden_desc[len(self.hidden_desc) - 1]['hidden_nodes'], self.output_size])),\n",
    "                             'biases': tf.Variable(tf.random_noraml(self.output_size))})\n",
    "    \n",
    "    def predict(self):\n",
    "        return 0\n",
    "    \n",
    "    def train():\n",
    "        return 0\n",
    "    "
   ]
  },
  {
   "cell_type": "code",
   "execution_count": 61,
   "metadata": {},
   "outputs": [
    {
     "name": "stdout",
     "output_type": "stream",
     "text": [
      "1\n"
     ]
    }
   ],
   "source": [
    "X_train = tf.constant([[7, 8, 3], [9, 10, 3]])\n",
    "y_train = tf.constant([[7], [9]])\n",
    "\n",
    "hidden_desc = [\n",
    "    {'hidden_nodes': 10, 'activation': 'relu'}\n",
    "]\n",
    "\n",
    "ffcell = FFCell(X_train, y_train, hidden_desc, True)\n",
    "\n",
    "i_size = 1 if True is True else 2\n",
    "print(i_size)\n"
   ]
  },
  {
   "cell_type": "code",
   "execution_count": null,
   "metadata": {
    "collapsed": true
   },
   "outputs": [],
   "source": []
  },
  {
   "cell_type": "code",
   "execution_count": null,
   "metadata": {
    "collapsed": true
   },
   "outputs": [],
   "source": []
  }
 ],
 "metadata": {
  "kernelspec": {
   "display_name": "Python 2",
   "language": "python",
   "name": "python2"
  },
  "language_info": {
   "codemirror_mode": {
    "name": "ipython",
    "version": 2
   },
   "file_extension": ".py",
   "mimetype": "text/x-python",
   "name": "python",
   "nbconvert_exporter": "python",
   "pygments_lexer": "ipython2",
   "version": "2.7.12"
  }
 },
 "nbformat": 4,
 "nbformat_minor": 2
}

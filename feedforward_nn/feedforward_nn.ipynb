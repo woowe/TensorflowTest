{
 "cells": [
  {
   "cell_type": "code",
   "execution_count": 4,
   "metadata": {
    "collapsed": true
   },
   "outputs": [],
   "source": [
    "import tensorflow as tf\n",
    "import numpy as np\n",
    "from tensorflow.examples.tutorials.mnist import input_data\n",
    "from ffnet import FFNet"
   ]
  },
  {
   "cell_type": "code",
   "execution_count": 5,
   "metadata": {},
   "outputs": [
    {
     "data": {
      "text/plain": [
       "'1.1.0'"
      ]
     },
     "execution_count": 5,
     "metadata": {},
     "output_type": "execute_result"
    }
   ],
   "source": [
    "tf.__version__"
   ]
  },
  {
   "cell_type": "code",
   "execution_count": 8,
   "metadata": {},
   "outputs": [
    {
     "name": "stdout",
     "output_type": "stream",
     "text": [
      "Extracting ../Data/MNIST/train-images-idx3-ubyte.gz\n",
      "Extracting ../Data/MNIST/train-labels-idx1-ubyte.gz\n",
      "Extracting ../Data/MNIST/t10k-images-idx3-ubyte.gz\n",
      "Extracting ../Data/MNIST/t10k-labels-idx1-ubyte.gz\n",
      "('Epoch: ', 1, '/', 20, ' Epoch cost: ', 1759645.8838195801)\n",
      "('Epoch: ', 2, '/', 20, ' Epoch cost: ', 407149.50895690918)\n",
      "('Epoch: ', 3, '/', 20, ' Epoch cost: ', 219698.81245136261)\n",
      "('Epoch: ', 4, '/', 20, ' Epoch cost: ', 129685.2869836092)\n",
      "('Epoch: ', 5, '/', 20, ' Epoch cost: ', 82787.375034034252)\n",
      "('Epoch: ', 6, '/', 20, ' Epoch cost: ', 47312.35197815299)\n",
      "('Epoch: ', 7, '/', 20, ' Epoch cost: ', 32844.445108443499)\n",
      "('Epoch: ', 8, '/', 20, ' Epoch cost: ', 25150.636295653567)\n",
      "('Epoch: ', 9, '/', 20, ' Epoch cost: ', 20163.818638728)\n",
      "('Epoch: ', 10, '/', 20, ' Epoch cost: ', 19931.303958121687)\n",
      "('Epoch: ', 11, '/', 20, ' Epoch cost: ', 17974.762671127915)\n",
      "('Epoch: ', 12, '/', 20, ' Epoch cost: ', 16485.311295241117)\n",
      "('Epoch: ', 13, '/', 20, ' Epoch cost: ', 15012.229688420892)\n",
      "('Epoch: ', 14, '/', 20, ' Epoch cost: ', 16727.460925316234)\n",
      "('Epoch: ', 15, '/', 20, ' Epoch cost: ', 12650.499591770887)\n",
      "('Epoch: ', 16, '/', 20, ' Epoch cost: ', 12230.737909987569)\n",
      "('Epoch: ', 17, '/', 20, ' Epoch cost: ', 12917.060449570417)\n",
      "('Epoch: ', 18, '/', 20, ' Epoch cost: ', 10337.960815772414)\n",
      "('Epoch: ', 19, '/', 20, ' Epoch cost: ', 11817.887610930658)\n",
      "('Epoch: ', 20, '/', 20, ' Epoch cost: ', 9475.6396078440957)\n",
      "('Accuracy', 0.95760012)\n",
      "[[ 1.  0.  0.  0.  0.  0.  0.  0.  0.  0.]]\n",
      "(0, ' | ', 7)\n"
     ]
    }
   ],
   "source": [
    "mnist = input_data.read_data_sets('../Data/MNIST/', one_hot=True)\n",
    "\n",
    "hidden_desc = [\n",
    "    {'hidden_nodes': 500, 'activation': tf.nn.relu},\n",
    "    {'hidden_nodes': 500, 'activation': tf.nn.relu},\n",
    "    {'hidden_nodes': 500, 'activation': tf.nn.relu}\n",
    "]\n",
    "\n",
    "ffnet = FFNet(784, 10, hidden_desc, True)\n",
    "\n",
    "ffnet.train(mnist, 100, 20, True)\n",
    "\n",
    "pred, pred_argmax = ffnet.predict(np.array([mnist.test.images[0]]))\n",
    "actu_argmax = np.argmax(mnist.test.labels[0])\n",
    "print(pred)\n",
    "print(pred_argmax[0], ' | ', actu_argmax)\n"
   ]
  },
  {
   "cell_type": "code",
   "execution_count": null,
   "metadata": {
    "collapsed": true
   },
   "outputs": [],
   "source": []
  },
  {
   "cell_type": "code",
   "execution_count": null,
   "metadata": {
    "collapsed": true
   },
   "outputs": [],
   "source": []
  }
 ],
 "metadata": {
  "kernelspec": {
   "display_name": "Python 2",
   "language": "python",
   "name": "python2"
  },
  "language_info": {
   "codemirror_mode": {
    "name": "ipython",
    "version": 2
   },
   "file_extension": ".py",
   "mimetype": "text/x-python",
   "name": "python",
   "nbconvert_exporter": "python",
   "pygments_lexer": "ipython2",
   "version": "2.7.12"
  }
 },
 "nbformat": 4,
 "nbformat_minor": 2
}

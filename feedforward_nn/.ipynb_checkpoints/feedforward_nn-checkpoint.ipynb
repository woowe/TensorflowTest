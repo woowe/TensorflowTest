{
 "cells": [
  {
   "cell_type": "code",
   "execution_count": 1,
   "metadata": {
    "collapsed": true
   },
   "outputs": [],
   "source": [
    "import tensorflow as tf\n",
    "import numpy as np\n",
    "from tensorflow.examples.tutorials.mnist import input_data"
   ]
  },
  {
   "cell_type": "code",
   "execution_count": 2,
   "metadata": {},
   "outputs": [
    {
     "data": {
      "text/plain": [
       "'1.1.0'"
      ]
     },
     "execution_count": 2,
     "metadata": {},
     "output_type": "execute_result"
    }
   ],
   "source": [
    "tf.__version__"
   ]
  },
  {
   "cell_type": "code",
   "execution_count": 33,
   "metadata": {},
   "outputs": [],
   "source": [
    "class FFCell:\n",
    "    def __init__(self, input_size, output_size, hidden_desc, regression = False):\n",
    "        self.input_size = input_size\n",
    "        self.output_size = output_size\n",
    "        self.hidden_desc = hidden_desc\n",
    "        self.regression = regression\n",
    "        self.weights = []\n",
    "        self.activations = []\n",
    "        self.X_train = tf.placeholder(tf.float32, [None, input_size], name=\"X_train\")\n",
    "        self.y_train = tf.placeholder(tf.float32, name=\"y_train\")\n",
    "        self._init_weights()\n",
    "        self._build_graph()\n",
    "    \n",
    "    def _init_weights(self):\n",
    "        self.weights.append({ 'weights': tf.Variable(tf.random_normal([self.input_size, self.hidden_desc[0]['hidden_nodes']])),\n",
    "                             'biases': tf.Variable(tf.random_normal([self.hidden_desc[0]['hidden_nodes']]))})\n",
    "        \n",
    "        if len(self.hidden_desc[1:]) >= 1:\n",
    "            cnt = 0\n",
    "            for desc in self.hidden_desc[1:]:\n",
    "                i_size = self.hidden_desc[cnt]['hidden_nodes']\n",
    "                self.weights.append({ 'weights': tf.Variable(tf.random_normal([i_size, desc['hidden_nodes']])),\n",
    "                                     'biases': tf.Variable(tf.random_normal([desc['hidden_nodes']]))})\n",
    "                cnt += 1\n",
    "        \n",
    "        self.weights.append({ 'weights': tf.Variable(tf.random_normal([self.hidden_desc[len(self.hidden_desc) - 1]['hidden_nodes'], self.output_size])),\n",
    "                             'biases': tf.Variable(tf.random_normal([self.output_size]))})\n",
    "    \n",
    "    def _build_graph(self):\n",
    "        activ_func = self.hidden_desc[0]['activation']\n",
    "        self.activations.append(\n",
    "            activ_func(tf.matmul(self.X_train, self.weights[0]['weights']) + self.weights[0]['biases'])\n",
    "        )\n",
    "        \n",
    "        if len(self.weights[1:-1]) >= 1:\n",
    "            cnt = 1\n",
    "            for weight in self.weights[1:-1]:\n",
    "                activ_func = self.hidden_desc[cnt]['activation']\n",
    "                prev_activ = self.activations[len(self.activations) - 1]\n",
    "                self.activations.append(\n",
    "                    activ_func(tf.matmul(prev_activ, weight['weights']) + weight['biases'])\n",
    "                )\n",
    "                cnt += 1\n",
    "        \n",
    "        weights_len = len(self.weights)\n",
    "        prev_activ = self.activations[len(self.activations) - 1]\n",
    "        self.logits = tf.matmul(prev_activ, self.weights[weights_len - 1]['weights']) + self.weights[weights_len - 1]['biases']\n",
    "    \n",
    "    def _get_batch(self, training_data, epoch, batch_size):\n",
    "        start = epoch * batch_size\n",
    "        end = start + batch_size\n",
    "        \n",
    "        return training_data['x'][start:end], training_data['y'][start:end]\n",
    "    \n",
    "    def predict(self):\n",
    "        self.prediction = tf.softmax(self.logits)\n",
    "        return prediction\n",
    "    \n",
    "    def train(self, training_data, batch_size, epochs):\n",
    "        # TODO do train stuff\n",
    "        cost = tf.reduce_mean(tf.nn.softmax_cross_entropy_with_logits(logits=self.logits, labels=self.y_train))\n",
    "        \n",
    "        optimizer = tf.train.AdamOptimizer().minimize(cost)\n",
    "        \n",
    "        with tf.Session() as sess:\n",
    "            sess.run(tf.global_variables_initializer())\n",
    "            for epoch in range(epochs):\n",
    "                epoch_cost = 0\n",
    "                for _ in range(int(training_data.train.num_examples/batch_size)):\n",
    "                    x, y = training_data.train.next_batch(batch_size)\n",
    "                    _, c = sess.run([optimizer, cost], feed_dict = {self.X_train: x, self.y_train: y})\n",
    "                    epoch_cost += c\n",
    "                print('Epoch: ', (epoch + 1), '/', epochs, ' Epoch cost: ', epoch_cost)\n",
    "            correct = tf.equal(tf.argmax(self.logits, 1), tf.argmax(self.y_train, 1))\n",
    "            accuracy = tf.reduce_mean(tf.cast(correct, 'float'))\n",
    "            print('Accuracy', accuracy.eval({self.X_train:training_data.test.images,\n",
    "                                             self.y_train:training_data.test.labels}))\n",
    "    "
   ]
  },
  {
   "cell_type": "code",
   "execution_count": 38,
   "metadata": {},
   "outputs": [
    {
     "name": "stdout",
     "output_type": "stream",
     "text": [
      "Extracting ../Data/MNIST/train-images-idx3-ubyte.gz\n",
      "Extracting ../Data/MNIST/train-labels-idx1-ubyte.gz\n",
      "Extracting ../Data/MNIST/t10k-images-idx3-ubyte.gz\n",
      "Extracting ../Data/MNIST/t10k-labels-idx1-ubyte.gz\n",
      "('Epoch: ', 1, '/', 20, ' Epoch cost: ', 11803.640125632286)\n",
      "('Epoch: ', 2, '/', 20, ' Epoch cost: ', 2790.1687921285629)\n",
      "('Epoch: ', 3, '/', 20, ' Epoch cost: ', 1861.5201080441475)\n",
      "('Epoch: ', 4, '/', 20, ' Epoch cost: ', 1380.6080731749535)\n",
      "('Epoch: ', 5, '/', 20, ' Epoch cost: ', 1072.3295169770718)\n",
      "('Epoch: ', 6, '/', 20, ' Epoch cost: ', 850.17115218748222)\n",
      "('Epoch: ', 7, '/', 20, ' Epoch cost: ', 686.94622774701566)\n",
      "('Epoch: ', 8, '/', 20, ' Epoch cost: ', 561.59797157028925)\n",
      "('Epoch: ', 9, '/', 20, ' Epoch cost: ', 458.53316043831728)\n",
      "('Epoch: ', 10, '/', 20, ' Epoch cost: ', 373.18100447388861)\n",
      "('Epoch: ', 11, '/', 20, ' Epoch cost: ', 304.77568072594983)\n",
      "('Epoch: ', 12, '/', 20, ' Epoch cost: ', 252.36701674957294)\n",
      "('Epoch: ', 13, '/', 20, ' Epoch cost: ', 207.00990738708822)\n",
      "('Epoch: ', 14, '/', 20, ' Epoch cost: ', 169.64164254989328)\n",
      "('Epoch: ', 15, '/', 20, ' Epoch cost: ', 139.15262464187742)\n",
      "('Epoch: ', 16, '/', 20, ' Epoch cost: ', 114.64275748461364)\n",
      "('Epoch: ', 17, '/', 20, ' Epoch cost: ', 99.296622029370951)\n",
      "('Epoch: ', 18, '/', 20, ' Epoch cost: ', 81.092789264957716)\n",
      "('Epoch: ', 19, '/', 20, ' Epoch cost: ', 64.796828026959616)\n",
      "('Epoch: ', 20, '/', 20, ' Epoch cost: ', 53.382439096701049)\n",
      "('Accuracy', 0.95160013)\n"
     ]
    }
   ],
   "source": [
    "mnist = input_data.read_data_sets('../Data/MNIST/', one_hot=True)\n",
    "\n",
    "hidden_desc = [\n",
    "    {'hidden_nodes': 10, 'activation': tf.nn.relu},\n",
    "]\n",
    "\n",
    "ffcell = FFCell(784, 10, hidden_desc, False)\n",
    "\n",
    "ffcell.train(mnist, 100, 20)\n"
   ]
  },
  {
   "cell_type": "code",
   "execution_count": null,
   "metadata": {
    "collapsed": true
   },
   "outputs": [],
   "source": []
  },
  {
   "cell_type": "code",
   "execution_count": null,
   "metadata": {
    "collapsed": true
   },
   "outputs": [],
   "source": []
  }
 ],
 "metadata": {
  "kernelspec": {
   "display_name": "Python 2",
   "language": "python",
   "name": "python2"
  },
  "language_info": {
   "codemirror_mode": {
    "name": "ipython",
    "version": 2
   },
   "file_extension": ".py",
   "mimetype": "text/x-python",
   "name": "python",
   "nbconvert_exporter": "python",
   "pygments_lexer": "ipython2",
   "version": "2.7.12"
  }
 },
 "nbformat": 4,
 "nbformat_minor": 2
}

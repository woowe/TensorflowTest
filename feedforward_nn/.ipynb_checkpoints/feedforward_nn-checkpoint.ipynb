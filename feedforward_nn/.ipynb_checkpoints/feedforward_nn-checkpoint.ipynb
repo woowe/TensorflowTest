{
 "cells": [
  {
   "cell_type": "code",
   "execution_count": 4,
   "metadata": {},
   "outputs": [],
   "source": [
    "import tensorflow as tf\n",
    "import numpy as np"
   ]
  },
  {
   "cell_type": "code",
   "execution_count": 7,
   "metadata": {},
   "outputs": [
    {
     "data": {
      "text/plain": [
       "'1.1.0'"
      ]
     },
     "execution_count": 7,
     "metadata": {},
     "output_type": "execute_result"
    }
   ],
   "source": [
    "tf.__version__"
   ]
  },
  {
   "cell_type": "code",
   "execution_count": 41,
   "metadata": {},
   "outputs": [
    {
     "ename": "IndentationError",
     "evalue": "unexpected indent (<ipython-input-41-0e0c1b79a40c>, line 16)",
     "output_type": "error",
     "traceback": [
      "\u001b[0;36m  File \u001b[0;32m\"<ipython-input-41-0e0c1b79a40c>\"\u001b[0;36m, line \u001b[0;32m16\u001b[0m\n\u001b[0;31m    'biases': tf.Variable(tf.random_noraml(self.y_train.get_shape()[1]))})\u001b[0m\n\u001b[0m    ^\u001b[0m\n\u001b[0;31mIndentationError\u001b[0m\u001b[0;31m:\u001b[0m unexpected indent\n"
     ]
    }
   ],
   "source": [
    "class FFCell:\n",
    "    def __init__(self, X_train, y_train, hidden_desc, regression = False):\n",
    "        self.X_train = X_train\n",
    "        self.y_train = y_train\n",
    "        self.hidden_desc = hidden_desc\n",
    "        self.regression = regression\n",
    "        self.layers = []\n",
    "        self._build_net()\n",
    "    \n",
    "    def _build_net(self):\n",
    "        for desc in self.hidden_desc:\n",
    "            print(desc)\n",
    "#             self.layers.append({ 'weights': tf.Variable(tf.random_normal([self.X_train.get_shape()[1], desc.hidden_nodes])),\n",
    "#                                  'biases': tf.Variable(tf.random_noraml(desc.hidden_nodes))})\n",
    "#         self.layers.append({ 'weights': tf.Variable(tf.random_normal([self.layers[len(self.layers) - 1].weights.get_shape()[0], self.y_train.get_shape()[1]])),\n",
    "#                              'biases': tf.Variable(tf.random_noraml(self.y_train.get_shape()[1]))})\n",
    "    \n",
    "    def predict(self):\n",
    "        return 0\n",
    "    \n",
    "    def train():\n",
    "        return 0\n",
    "    "
   ]
  },
  {
   "cell_type": "code",
   "execution_count": 42,
   "metadata": {},
   "outputs": [
    {
     "name": "stdout",
     "output_type": "stream",
     "text": [
      "{'activation': 'relu', 'hidden_nodes': 10}\n"
     ]
    },
    {
     "ename": "AttributeError",
     "evalue": "'dict' object has no attribute 'hidden_nodes'",
     "output_type": "error",
     "traceback": [
      "\u001b[0;31m---------------------------------------------------------------------------\u001b[0m",
      "\u001b[0;31mAttributeError\u001b[0m                            Traceback (most recent call last)",
      "\u001b[0;32m<ipython-input-42-cfbf77a8b18a>\u001b[0m in \u001b[0;36m<module>\u001b[0;34m()\u001b[0m\n\u001b[1;32m      6\u001b[0m ]\n\u001b[1;32m      7\u001b[0m \u001b[0;34m\u001b[0m\u001b[0m\n\u001b[0;32m----> 8\u001b[0;31m \u001b[0mffcell\u001b[0m \u001b[0;34m=\u001b[0m \u001b[0mFFCell\u001b[0m\u001b[0;34m(\u001b[0m\u001b[0mX_train\u001b[0m\u001b[0;34m,\u001b[0m \u001b[0my_train\u001b[0m\u001b[0;34m,\u001b[0m \u001b[0mhidden_desc\u001b[0m\u001b[0;34m,\u001b[0m \u001b[0mTrue\u001b[0m\u001b[0;34m)\u001b[0m\u001b[0;34m\u001b[0m\u001b[0m\n\u001b[0m\u001b[1;32m      9\u001b[0m \u001b[0;34m\u001b[0m\u001b[0m\n\u001b[1;32m     10\u001b[0m \u001b[0;32mprint\u001b[0m\u001b[0;34m(\u001b[0m\u001b[0mffcell\u001b[0m\u001b[0;34m.\u001b[0m\u001b[0mX_train\u001b[0m\u001b[0;34m)\u001b[0m\u001b[0;34m\u001b[0m\u001b[0m\n",
      "\u001b[0;32m<ipython-input-35-7222f6013965>\u001b[0m in \u001b[0;36m__init__\u001b[0;34m(self, X_train, y_train, hidden_desc, regression)\u001b[0m\n\u001b[1;32m      6\u001b[0m         \u001b[0mself\u001b[0m\u001b[0;34m.\u001b[0m\u001b[0mregression\u001b[0m \u001b[0;34m=\u001b[0m \u001b[0mregression\u001b[0m\u001b[0;34m\u001b[0m\u001b[0m\n\u001b[1;32m      7\u001b[0m         \u001b[0mself\u001b[0m\u001b[0;34m.\u001b[0m\u001b[0mlayers\u001b[0m \u001b[0;34m=\u001b[0m \u001b[0;34m[\u001b[0m\u001b[0;34m]\u001b[0m\u001b[0;34m\u001b[0m\u001b[0m\n\u001b[0;32m----> 8\u001b[0;31m         \u001b[0mself\u001b[0m\u001b[0;34m.\u001b[0m\u001b[0m_build_net\u001b[0m\u001b[0;34m(\u001b[0m\u001b[0;34m)\u001b[0m\u001b[0;34m\u001b[0m\u001b[0m\n\u001b[0m\u001b[1;32m      9\u001b[0m \u001b[0;34m\u001b[0m\u001b[0m\n\u001b[1;32m     10\u001b[0m     \u001b[0;32mdef\u001b[0m \u001b[0m_build_net\u001b[0m\u001b[0;34m(\u001b[0m\u001b[0mself\u001b[0m\u001b[0;34m)\u001b[0m\u001b[0;34m:\u001b[0m\u001b[0;34m\u001b[0m\u001b[0m\n",
      "\u001b[0;32m<ipython-input-35-7222f6013965>\u001b[0m in \u001b[0;36m_build_net\u001b[0;34m(self)\u001b[0m\n\u001b[1;32m     11\u001b[0m         \u001b[0;32mfor\u001b[0m \u001b[0mdesc\u001b[0m \u001b[0;32min\u001b[0m \u001b[0mself\u001b[0m\u001b[0;34m.\u001b[0m\u001b[0mhidden_desc\u001b[0m\u001b[0;34m:\u001b[0m\u001b[0;34m\u001b[0m\u001b[0m\n\u001b[1;32m     12\u001b[0m             \u001b[0;32mprint\u001b[0m\u001b[0;34m(\u001b[0m\u001b[0mdesc\u001b[0m\u001b[0;34m)\u001b[0m\u001b[0;34m\u001b[0m\u001b[0m\n\u001b[0;32m---> 13\u001b[0;31m             self.layers.append({ 'weights': tf.Variable(tf.random_normal([self.X_train.get_shape()[1], desc.hidden_nodes])),\n\u001b[0m\u001b[1;32m     14\u001b[0m                                  'biases': tf.Variable(tf.random_noraml(desc.hidden_nodes))})\n\u001b[1;32m     15\u001b[0m         self.layers.append({ 'weights': tf.Variable(tf.random_normal([self.layers[len(self.layers) - 1].weights.get_shape()[0], self.y_train.get_shape()[1]])),\n",
      "\u001b[0;31mAttributeError\u001b[0m: 'dict' object has no attribute 'hidden_nodes'"
     ]
    }
   ],
   "source": [
    "X_train = tf.constant([[7, 8, 3], [9, 10, 3]])\n",
    "y_train = tf.constant([[7], [9]])\n",
    "\n",
    "hidden_desc = [\n",
    "    {'hidden_nodes': 10, 'activation': 'relu'}\n",
    "]\n",
    "\n",
    "ffcell = FFCell(X_train, y_train, hidden_desc, True)\n",
    "\n",
    "print(ffcell.X_train)\n"
   ]
  },
  {
   "cell_type": "code",
   "execution_count": null,
   "metadata": {
    "collapsed": true
   },
   "outputs": [],
   "source": []
  }
 ],
 "metadata": {
  "kernelspec": {
   "display_name": "Python 2",
   "language": "python",
   "name": "python2"
  },
  "language_info": {
   "codemirror_mode": {
    "name": "ipython",
    "version": 2
   },
   "file_extension": ".py",
   "mimetype": "text/x-python",
   "name": "python",
   "nbconvert_exporter": "python",
   "pygments_lexer": "ipython2",
   "version": "2.7.12"
  }
 },
 "nbformat": 4,
 "nbformat_minor": 2
}
